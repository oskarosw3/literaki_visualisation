{
 "cells": [
  {
   "cell_type": "code",
   "execution_count": 2,
   "id": "952a3ec5-bb12-4315-9e74-fa0598c80df1",
   "metadata": {
    "scrolled": true
   },
   "outputs": [
    {
     "name": "stdout",
     "output_type": "stream",
     "text": [
      "#1 oskarosw3 : 96\n",
      "\n",
      "#2 cps2311g : 61\n",
      "\n",
      "\n",
      "\n",
      "1. rod_oro: h7+ rod +4\n",
      "\n",
      "doncwij: (C)\n",
      "\n",
      "2. roa_orś: f9- roda +5\n",
      "\n",
      "nodcwij: f7- nor +3\n",
      "\n",
      "3. o_rśeas: f7+ nor +3\n",
      "\n",
      "ydcwijż: f7+ nory +5\n",
      "\n",
      "4. s_rśean: f8- oso/oso +6\n",
      "\n",
      "dcwijż_: (C)\n",
      "\n",
      "5. nara_śe: j9+ nara/rodan +12\n",
      "\n",
      "_żdcwij: j11- r[y]ż +12\n",
      "\n",
      "6. e_śenys: l11+ że +6\n",
      "\n",
      "ydcwijd: j11- ryży +8\n",
      "\n",
      "7. _śenysg: (C)\n",
      "\n",
      "wadcijd: c10- wady +12\n",
      "\n",
      "8. sn_śeyg: d9+ san +10\n",
      "\n",
      "cijdiii: iiii -> azii\n",
      "\n",
      "9. _śeygea: aee -> ceą\n",
      "\n",
      "jadczii: m8+ jady +16\n",
      "\n",
      "10. ge_yścą: i4+ ge[n]y/nory +11\n",
      "\n",
      "zikcińz: i4- gzik +14\n",
      "\n",
      "11. ceśąiaz: j2+ cez +8\n",
      "\n",
      "picńznf: h2- pic +5\n",
      "\n",
      "12. pąiśazp: l2+ pąki +20\n",
      "\n",
      "nicńzfy: l2- pni +4\n",
      "\n",
      "13. zbśapwi: l5- izb +5\n",
      "\n",
      "cńzfyit: (T)\n",
      "\n",
      "14. piwaśte: e3- piwa/pa +19\n",
      "\n",
      "cńzfyit: (T)\n",
      "\n",
      "15. śtenaak: (T)\n",
      "\n",
      "cńzfyit: (T)\n",
      "\n",
      "16. śtenaak: (T)\n",
      "\n",
      "cńzfyit: L -18\n",
      "\n",
      "17. śtenaak: L -13\n",
      "\n",
      "\n",
      "\n"
     ]
    }
   ],
   "source": [
    "import pandas as pd\n",
    "\n",
    "with open(\"506621460.txt\") as file:\n",
    "    for line in file:\n",
    "        print(line)"
   ]
  },
  {
   "cell_type": "code",
   "execution_count": 5,
   "id": "da999c20-4d22-484f-923d-8c114541cd9d",
   "metadata": {},
   "outputs": [
    {
     "name": "stdout",
     "output_type": "stream",
     "text": [
      "12\n"
     ]
    }
   ],
   "source": [
    "print(ord(\"m\")-ord('a'))"
   ]
  },
  {
   "cell_type": "code",
   "execution_count": 6,
   "id": "b1319cee-4754-4de1-8082-4c196abf7559",
   "metadata": {},
   "outputs": [
    {
     "ename": "TypeError",
     "evalue": "'str' object does not support item assignment",
     "output_type": "error",
     "traceback": [
      "\u001b[0;31m---------------------------------------------------------------------------\u001b[0m",
      "\u001b[0;31mTypeError\u001b[0m                                 Traceback (most recent call last)",
      "Cell \u001b[0;32mIn[6], line 2\u001b[0m\n\u001b[1;32m      1\u001b[0m a\u001b[38;5;241m=\u001b[39m\u001b[38;5;124m\"\u001b[39m\u001b[38;5;124mass\u001b[39m\u001b[38;5;124m\"\u001b[39m\n\u001b[0;32m----> 2\u001b[0m \u001b[43ma\u001b[49m\u001b[43m[\u001b[49m\u001b[38;5;241;43m2\u001b[39;49m\u001b[43m]\u001b[49m\u001b[38;5;241m=\u001b[39m\u001b[38;5;124m\"\u001b[39m\u001b[38;5;124ma\u001b[39m\u001b[38;5;124m\"\u001b[39m\n",
      "\u001b[0;31mTypeError\u001b[0m: 'str' object does not support item assignment"
     ]
    }
   ],
   "source": [
    "a=\"ass\"\n",
    "a[2]=\"a\""
   ]
  },
  {
   "cell_type": "code",
   "execution_count": 7,
   "id": "fadf8527-3cf7-4b3c-977d-8a473940c1ba",
   "metadata": {},
   "outputs": [],
   "source": [
    "def deal_with_blanks(words):\n",
    "    for nb,word in enumerate(words):\n",
    "        if \"[\" in word:\n",
    "            i=word.find(\"[\")\n",
    "            temp_word=word[:i]+word[i+1].upper()+word[i+3:]\n",
    "            words[nb]=temp_word"
   ]
  },
  {
   "cell_type": "code",
   "execution_count": 8,
   "id": "899f9956-081c-49f6-8c53-e350fcdeac06",
   "metadata": {},
   "outputs": [
    {
     "name": "stdout",
     "output_type": "stream",
     "text": [
      "['poLska', 'chuj', 'chUj', 'amerrykA']\n"
     ]
    }
   ],
   "source": [
    "words=[\"po[l]ska\",\"chuj\", \"ch[u]j\", \"amerryk[a]\"]\n",
    "deal_with_blanks(words)\n",
    "print(words)"
   ]
  },
  {
   "cell_type": "code",
   "execution_count": null,
   "id": "5d177747-00cf-4622-ad0f-2285dac9a626",
   "metadata": {},
   "outputs": [],
   "source": [
    "def add_point(lista, point, is_first):\n",
    "    coord=point[0]\n",
    "    words=point[1].split(\"/\")\n",
    "    deal_with_blanks(words)\n",
    "    letters=point[1]\n",
    "    xcoord=ord(coord[0])-ord('a')\n",
    "    ycoord=int(coord[1:-1])-1\n",
    "    sign=coord[-1]\n",
    "    if is_first:\n",
    "        if xcoord == 7 and ycoord !=7:\n",
    "            for i in range(len(letters)):\n",
    "                if sign == \"-\":\n",
    "                    lista[ycoord+i][7]=letters[i]\n",
    "                else:\n",
    "                    lista[ycoord-i][7]=letters[i]\n",
    "        elif ycoord==7 and xcoord!=7:\n",
    "            for i in range(len(letters)):\n",
    "                if sign == \"-\":\n",
    "                    lista[7][xcoord+i]=letters[i]\n",
    "                else:\n",
    "                    lista[7][xcoord-i]=letters[i]\n",
    "        else:\n",
    "            return (False, point)\n",
    "    else:\n",
    "        dl=len(letters)\n",
    "        direction=None\n",
    "        if sign == \"+\":\n",
    "            if dl > ycoord:\n",
    "                direction = \"left\"\n",
    "            if dl + xcoord > 14:\n",
    "                direction = \"down\"\n",
    "        else:\n",
    "            if dl + ycoord > 14:\n",
    "                direction = 'right'\n",
    "            if dl > xcoord:\n",
    "                direction = \"up\"\n",
    "        "
   ]
  },
  {
   "cell_type": "code",
   "execution_count": 3,
   "id": "3bbae78a-ab1d-487e-ae17-13903098031e",
   "metadata": {},
   "outputs": [],
   "source": [
    "\n",
    "\n",
    "def txt_to_list(file):\n",
    "    pole=[]\n",
    "    for i in range(15):\n",
    "        pole.append([0]*15)\n",
    "    "
   ]
  },
  {
   "cell_type": "code",
   "execution_count": null,
   "id": "998f6e0b-2c62-400d-a4bf-89eb49ee4ce7",
   "metadata": {},
   "outputs": [],
   "source": [
    "to do:\n",
    "- turn by turn visualisation\n",
    "- "
   ]
  }
 ],
 "metadata": {
  "kernelspec": {
   "display_name": "Python 3 (ipykernel)",
   "language": "python",
   "name": "python3"
  },
  "language_info": {
   "codemirror_mode": {
    "name": "ipython",
    "version": 3
   },
   "file_extension": ".py",
   "mimetype": "text/x-python",
   "name": "python",
   "nbconvert_exporter": "python",
   "pygments_lexer": "ipython3",
   "version": "3.12.7"
  }
 },
 "nbformat": 4,
 "nbformat_minor": 5
}
