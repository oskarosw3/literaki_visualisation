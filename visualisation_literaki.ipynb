{
 "cells": [
  {
   "cell_type": "code",
   "execution_count": 5,
   "id": "da999c20-4d22-484f-923d-8c114541cd9d",
   "metadata": {},
   "outputs": [
    {
     "name": "stdout",
     "output_type": "stream",
     "text": [
      "12\n"
     ]
    }
   ],
   "source": [
    "print(ord(\"m\")-ord('a'))"
   ]
  },
  {
   "cell_type": "code",
   "execution_count": 7,
   "id": "fadf8527-3cf7-4b3c-977d-8a473940c1ba",
   "metadata": {},
   "outputs": [],
   "source": [
    "def deal_with_blanks(words):\n",
    "    for nb,word in enumerate(words):\n",
    "        if \"[\" in word:\n",
    "            i=word.find(\"[\")\n",
    "            temp_word=word[:i]+word[i+1].upper()+word[i+3:]\n",
    "            words[nb]=temp_word"
   ]
  },
  {
   "cell_type": "code",
   "execution_count": 8,
   "id": "899f9956-081c-49f6-8c53-e350fcdeac06",
   "metadata": {},
   "outputs": [
    {
     "name": "stdout",
     "output_type": "stream",
     "text": [
      "['poLska', 'chuj', 'chUj', 'amerrykA']\n"
     ]
    }
   ],
   "source": [
    "words=[\"po[l]ska\",\"chuj\", \"ch[u]j\", \"amerryk[a]\"]\n",
    "deal_with_blanks(words)\n",
    "print(words)"
   ]
  },
  {
   "cell_type": "code",
   "execution_count": null,
   "id": "5d177747-00cf-4622-ad0f-2285dac9a626",
   "metadata": {},
   "outputs": [],
   "source": [
    "def add_point(lista, point, is_first):\n",
    "    coord=point[0]\n",
    "    words=point[1].split(\"/\")\n",
    "    deal_with_blanks(words)\n",
    "    letters=point[1]\n",
    "    xcoord=ord(coord[0])-ord('a')\n",
    "    ycoord=int(coord[1:-1])-1\n",
    "    sign=coord[-1]\n",
    "    if is_first:\n",
    "        if xcoord == 7 and ycoord !=7:\n",
    "            for i in range(len(letters)):\n",
    "                if sign == \"-\":\n",
    "                    lista[ycoord+i][7]=letters[i]\n",
    "                else:\n",
    "                    lista[ycoord-i][7]=letters[i]\n",
    "        elif ycoord==7 and xcoord!=7:\n",
    "            for i in range(len(letters)):\n",
    "                if sign == \"-\":\n",
    "                    lista[7][xcoord+i]=letters[i]\n",
    "                else:\n",
    "                    lista[7][xcoord-i]=letters[i]\n",
    "        else:\n",
    "            return (False, point)\n",
    "    else:\n",
    "        dl=len(letters)\n",
    "        direction=None\n",
    "        if sign == \"+\":\n",
    "            if dl > ycoord:\n",
    "                direction = \"left\"\n",
    "            if dl + xcoord > 14:\n",
    "                direction = \"down\"\n",
    "        else:\n",
    "            if dl + ycoord > 14:\n",
    "                direction = 'right'\n",
    "            if dl > xcoord:\n",
    "                direction = \"up\"\n",
    "        "
   ]
  },
  {
   "cell_type": "code",
   "execution_count": 3,
   "id": "3bbae78a-ab1d-487e-ae17-13903098031e",
   "metadata": {},
   "outputs": [],
   "source": [
    "\n",
    "\n",
    "def txt_to_list(file):\n",
    "    pole=[]\n",
    "    for i in range(15):\n",
    "        pole.append([0]*15)\n",
    "    "
   ]
  },
  {
   "cell_type": "code",
   "execution_count": null,
   "id": "998f6e0b-2c62-400d-a4bf-89eb49ee4ce7",
   "metadata": {},
   "outputs": [],
   "source": [
    "to do:\n",
    "- turn by turn visualisation\n",
    "- "
   ]
  }
 ],
 "metadata": {
  "kernelspec": {
   "display_name": "Python 3 (ipykernel)",
   "language": "python",
   "name": "python3"
  },
  "language_info": {
   "codemirror_mode": {
    "name": "ipython",
    "version": 3
   },
   "file_extension": ".py",
   "mimetype": "text/x-python",
   "name": "python",
   "nbconvert_exporter": "python",
   "pygments_lexer": "ipython3",
   "version": "3.12.7"
  }
 },
 "nbformat": 4,
 "nbformat_minor": 5
}
